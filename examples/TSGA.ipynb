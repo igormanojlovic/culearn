{
 "cells": [
  {
   "metadata": {},
   "cell_type": "markdown",
   "source": [
    "\n",
    "# TSGA: Time Series Grouping Algorithm\n",
    "\n",
    "This notebook shows how to apply the clustering method proposed in:\n",
    "\n",
    "Igor Manojlović, Goran Švenda, Aleksandar Erdeljan, Milan Gavrić, *Time Series Grouping Algorithm for Load Pattern Recognition*, Computers in Industry 111: 140-147, 2019, DOI: [10.1016/j.compind.2019.07.009](https://doi.org/10.1016/j.compind.2019.07.009)\n"
   ],
   "id": "e87a025dca9089f5"
  },
  {
   "metadata": {},
   "cell_type": "code",
   "source": [
    "from culearn.clustering import *\n",
    "\n",
    "# First, we need an instance of the TSGA class that implements the algorithm.\n",
    "clustering = TSGA()\n",
    "# Default parameter values are set according to the original paper.\n",
    "# For more options, please look at the class comments.\n",
    "\n",
    "# Then, we need an input dataset - we can just generate one.\n",
    "x = pd.DataFrame(\n",
    "    np.random.rand(1000, 100),\n",
    "    index=[f'Object_{i}' for i in range(1000)],\n",
    "    columns=[f'Feature_{i}' for i in range(100)],\n",
    ")\n",
    "\n",
    "# Finally, we can perform the clustering.\n",
    "y = clustering.fit_predict(x)\n",
    "\n",
    "# The result is a DataFrame with one index and one column,\n",
    "# where the index contains object identifiers,\n",
    "# while the column contains cluster identifiers.\n",
    "y"
   ],
   "id": "2af8c2a7f158cad8",
   "outputs": [],
   "execution_count": null
  },
  {
   "metadata": {},
   "cell_type": "code",
   "source": [
    "# The properties of the TSGA instance keep information about the clustering process,\n",
    "# such the clustering scores obtained during the search for an optimal number of clusters.\n",
    "print('Cluster Validity Index:', clustering.score)\n",
    "score_values = pd.DataFrame(clustering.k2score.values())\n",
    "score_values.plot()"
   ],
   "id": "dc3f00ab4aea5714",
   "outputs": [],
   "execution_count": null
  }
 ],
 "metadata": {
  "kernelspec": {
   "display_name": "Python 3",
   "language": "python",
   "name": "python3"
  },
  "language_info": {
   "codemirror_mode": {
    "name": "ipython",
    "version": 2
   },
   "file_extension": ".py",
   "mimetype": "text/x-python",
   "name": "python",
   "nbconvert_exporter": "python",
   "pygments_lexer": "ipython2",
   "version": "2.7.6"
  }
 },
 "nbformat": 4,
 "nbformat_minor": 5
}
