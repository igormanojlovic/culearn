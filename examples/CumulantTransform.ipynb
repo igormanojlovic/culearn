{
 "cells": [
  {
   "cell_type": "markdown",
   "source": [
    "\n",
    "# CumulantTransform\n",
    "\n",
    "This notebook shows how to transform input time series to time series of normalized cluster-level cumulants using an instance of the `culearn.learn.CumulantTransform` class. This is integrated into `culearn.learn.CumulantLearn` class and performed before regression, but it can also be used by itself if you need clustering and approximation without regression. Since the cluster-level cumulants are used instead of centroids to approximate time series, this transformation is a generalization of the pattern recognition process proposed in Figure 1 in:\n",
    "\n",
    "Igor Manojlović, Goran Švenda, Aleksandar Erdeljan, Milan Gavrić, *Time Series Grouping Algorithm for Load Pattern Recognition*, Computers in Industry 111: 140-147, 2019, DOI: [10.1016/j.compind.2019.07.009](https://doi.org/10.1016/j.compind.2019.07.009)\n"
   ],
   "metadata": {
    "collapsed": false,
    "pycharm": {
     "name": "#%% md\n"
    }
   }
  },
  {
   "cell_type": "markdown",
   "source": "## Obtaining normalized cluster-level cumulants",
   "metadata": {
    "collapsed": false,
    "pycharm": {
     "name": "#%% md\n"
    }
   }
  },
  {
   "cell_type": "code",
   "source": [
    "import plotly.express as px\n",
    "from culearn.data import *\n",
    "from culearn.learn import *\n",
    "\n",
    "# Prepare the data source:\n",
    "source = LCL('../data/LCL')\n",
    "# Checkout other data sources in the Datasets notebook.\n",
    "\n",
    "# Load the dataset from the data source:\n",
    "dataset = source.dataset()\n",
    "# This might take a while at first, but will make the rest of the process much faster.\n",
    "\n",
    "# Prepare time encoders that will be used to aggregate time series values before clustering:\n",
    "transform_encoders = TimeEncoders(MonthOfYear(), DayType(source.calendar), TimeOfDay())\n",
    "\n",
    "# Configure the transformer that will approximate and cluster time series values:\n",
    "transformer = CumulantTransform(encoder=transform_encoders)\n",
    "\n",
    "# Obtain the normalized cluster-level cumulants:\n",
    "cumulants = transformer.fit_transform(dataset.y, TimeResolution(minutes=30), source.interval)\n",
    "# You can also use fit and transform functions individually if required."
   ],
   "metadata": {
    "collapsed": false,
    "pycharm": {
     "name": "#%%\n"
    }
   },
   "outputs": [],
   "execution_count": null
  },
  {
   "metadata": {},
   "cell_type": "markdown",
   "source": "## Exploring the results"
  },
  {
   "cell_type": "markdown",
   "source": [
    "### Time series of cluster-level cumulants"
   ],
   "metadata": {
    "collapsed": false,
    "pycharm": {
     "name": "#%% md\n"
    }
   }
  },
  {
   "cell_type": "code",
   "source": [
    "for c in cumulants:\n",
    "    print(c.ts_id)\n",
    "    display(c)\n",
    "    break"
   ],
   "metadata": {
    "collapsed": false,
    "pycharm": {
     "name": "#%%\n"
    }
   },
   "outputs": [],
   "execution_count": null
  },
  {
   "cell_type": "markdown",
   "source": [
    "### Time series of cluster-level prediction intervals"
   ],
   "metadata": {
    "collapsed": false,
    "pycharm": {
     "name": "#%% md\n"
    }
   }
  },
  {
   "cell_type": "code",
   "source": [
    "intervals = transformer.inverse_transform(cumulants, p=[0.5, 0.75, 0.99])\n",
    "for i in intervals:\n",
    "    print(i.ts_id)\n",
    "    display(i.to_frame())\n",
    "    break"
   ],
   "metadata": {
    "collapsed": false,
    "pycharm": {
     "name": "#%%\n"
    }
   },
   "outputs": [],
   "execution_count": null
  },
  {
   "cell_type": "markdown",
   "source": "## Evaluating the results",
   "metadata": {
    "collapsed": false,
    "pycharm": {
     "name": "#%% md\n"
    }
   }
  },
  {
   "cell_type": "code",
   "source": [
    "p = [_ / 100 for _ in range(1, 100)] # percentile probabilities\n",
    "pinball_score, winkler_score = transformer.evaluate(cumulants, p)"
   ],
   "metadata": {
    "collapsed": false,
    "pycharm": {
     "name": "#%%\n",
     "is_executing": true
    },
    "jupyter": {
     "is_executing": true
    }
   },
   "outputs": [],
   "execution_count": null
  },
  {
   "cell_type": "markdown",
   "source": [
    "### Pinball Score"
   ],
   "metadata": {
    "collapsed": false,
    "pycharm": {
     "name": "#%% md\n"
    }
   }
  },
  {
   "cell_type": "code",
   "source": [
    "pinball_score.mean(axis=0).plot(legend=False)"
   ],
   "metadata": {
    "collapsed": false,
    "pycharm": {
     "name": "#%%\n"
    }
   },
   "outputs": [],
   "execution_count": null
  },
  {
   "cell_type": "markdown",
   "source": [
    "### Winkler Score"
   ],
   "metadata": {
    "collapsed": false,
    "pycharm": {
     "name": "#%% md\n"
    }
   }
  },
  {
   "cell_type": "code",
   "source": [
    "winkler_score.mean(axis=0).plot(legend=False)"
   ],
   "metadata": {
    "collapsed": false,
    "pycharm": {
     "name": "#%%\n"
    }
   },
   "outputs": [],
   "execution_count": null
  },
  {
   "cell_type": "markdown",
   "source": [
    "### Clustering score"
   ],
   "metadata": {
    "collapsed": false,
    "pycharm": {
     "name": "#%% md\n"
    }
   }
  },
  {
   "cell_type": "code",
   "source": [
    "px.bar(transformer.clustering_score.reset_index(), x='k', y='score', color='selected')"
   ],
   "metadata": {
    "collapsed": false,
    "pycharm": {
     "name": "#%%\n"
    }
   },
   "outputs": [],
   "execution_count": null
  },
  {
   "cell_type": "markdown",
   "source": [
    "### Feature extraction score"
   ],
   "metadata": {
    "collapsed": false,
    "pycharm": {
     "name": "#%% md\n"
    }
   }
  },
  {
   "cell_type": "code",
   "source": [
    "px.bar(transformer.extractor_score.reset_index(), x='feature', y='score', color='selected')"
   ],
   "metadata": {
    "collapsed": false,
    "pycharm": {
     "name": "#%%\n"
    }
   },
   "outputs": [],
   "execution_count": null
  },
  {
   "cell_type": "markdown",
   "source": "## Plotting the results",
   "metadata": {
    "collapsed": false,
    "pycharm": {
     "name": "#%% md\n"
    }
   }
  },
  {
   "cell_type": "code",
   "source": [
    "# Plot the normalized cluster-level cumulants for the last week:\n",
    "last_week = TimeInterval(source.interval.end - timedelta(7), source.interval.end)\n",
    "last_week_cumulants = [_.select(last_week) for _ in cumulants]\n",
    "fig = transformer.figure(last_week_cumulants, p=[0.5, 0.75, 0.99])\n",
    "# You can add show_actual=True if you also want to show load measurements.\n",
    "# However, note that this might consume a lot of memory for large clusters.\n",
    "fig.show()"
   ],
   "metadata": {
    "collapsed": false,
    "pycharm": {
     "name": "#%%\n"
    }
   },
   "outputs": [],
   "execution_count": null
  }
 ],
 "metadata": {
  "kernelspec": {
   "display_name": "Python 3",
   "language": "python",
   "name": "python3"
  },
  "language_info": {
   "codemirror_mode": {
    "name": "ipython",
    "version": 2
   },
   "file_extension": ".py",
   "mimetype": "text/x-python",
   "name": "python",
   "nbconvert_exporter": "python",
   "pygments_lexer": "ipython2",
   "version": "2.7.6"
  }
 },
 "nbformat": 4,
 "nbformat_minor": 0
}
