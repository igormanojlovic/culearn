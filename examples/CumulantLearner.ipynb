{
 "cells": [
  {
   "cell_type": "markdown",
   "source": [
    "# CumulantLearner: Evaluation\n",
    "\n",
    "This notebook shows how to use the `culearn.learn.CumulantLearn` class to perform the evaluation described in the case study in:\n",
    "\n",
    "Igor Manojlović, Goran Švenda, Aleksandar Erdeljan, Milan Gavrić, Darko Čapko, *Cumulant Learning: Highly Accurate and Computationally Efficient Load Pattern Recognition Method for Probabilistic STLF at the LV Level*, IEEE Transactions on Smart Grid, 2024, DOI: [10.1109/TSG.2024.3481894](https://doi.org/10.1109/TSG.2024.3481894)\n",
    "\n"
   ],
   "metadata": {
    "collapsed": false,
    "pycharm": {
     "name": "#%% md\n"
    }
   }
  },
  {
   "cell_type": "markdown",
   "source": "## Creating the learner",
   "metadata": {
    "collapsed": false,
    "pycharm": {
     "name": "#%% md\n"
    }
   }
  },
  {
   "cell_type": "code",
   "source": [
    "import plotly.express as px\n",
    "from culearn.data import *\n",
    "from culearn.learn import *\n",
    "\n",
    "# Prepare the data source:\n",
    "source = LCL('../data/LCL')\n",
    "# Checkout other data sources in the Datasets notebook.\n",
    "\n",
    "# Load the dataset from the data source:\n",
    "dataset = source.dataset()\n",
    "# This might take a while at first, but will make the rest of the process much faster.\n",
    "\n",
    "# Prepare time encoders that will be used to aggregate time series values before clustering:\n",
    "transform_encoders = TimeEncoders(MonthOfYear(), DayType(source.calendar), TimeOfDay())\n",
    "\n",
    "# Configure a transformer that will approximate and cluster time series values:\n",
    "transformer = CumulantTransform(encoder=transform_encoders)\n",
    "\n",
    "# Prepare time encoders that will be used to obtain input time features for regression:\n",
    "regressor_encoders = TimeEncoders(MonthOfYear(), DayOfWeek(), TimeOfDay(), Holiday(source.calendar))\n",
    "\n",
    "# Configure regression method to predict time series patterns for 48 time steps ahead:\n",
    "regressor = lambda: TimeSeriesRegressor(48, t_encoder=regressor_encoders)\n",
    "# You can change the underlying regression model by modifying the 'base' parameter.\n",
    "# For example, you can set base=DeepS2S(epochs=1) if you only want to perform deep learning for one epoch.\n",
    "# You can also set base=ShallowS2S() if you want to use shallow learning models instead.\n",
    "\n",
    "# Configure learner to predict half-hour cluster-level cumulants:\n",
    "learner = CumulantLearner(dataset, TimeResolution(minutes=30), transformer, regressor)\n",
    "# With the regressor that predicts 48 time steps ahead, the learner will provide day-ahead forecast."
   ],
   "metadata": {
    "collapsed": false,
    "pycharm": {
     "name": "#%%\n"
    }
   },
   "outputs": [],
   "execution_count": null
  },
  {
   "cell_type": "markdown",
   "source": "## Evaluating the learner",
   "metadata": {
    "collapsed": false,
    "pycharm": {
     "name": "#%% md\n"
    }
   }
  },
  {
   "cell_type": "code",
   "source": [
    "# The learner will use 80% of history for initial training:\n",
    "fit_interval = TimeInterval(\n",
    "    source.interval.start,\n",
    "    source.interval.start + timedelta(int(source.interval.delta.days * 0.8))\n",
    ")\n",
    "\n",
    "# The remaining 20% of history will be used for testing:\n",
    "pred_interval = TimeInterval(fit_interval.end, source.interval.end)\n",
    "\n",
    "# Incremental updates will be performed every 15 prediction intervals (every 15 days):\n",
    "update_interval = 15\n",
    "\n",
    "# The learner will be evaluated at percentile probabilities:\n",
    "p = [_ / 100 for _ in range(1, 100)]\n",
    "\n",
    "# Evaluation (might take a while):\n",
    "e = learner.evaluate(fit_interval, pred_interval, update_interval, p)\n",
    "\n",
    "# Save the results to CSV:\n",
    "e.to_csv(source.directory, type(learner).__name__)"
   ],
   "metadata": {
    "collapsed": false,
    "pycharm": {
     "name": "#%%\n"
    },
    "jupyter": {
     "is_executing": true
    }
   },
   "outputs": [],
   "execution_count": null
  },
  {
   "cell_type": "markdown",
   "source": [
    "### Pinball score"
   ],
   "metadata": {
    "collapsed": false,
    "pycharm": {
     "name": "#%% md\n"
    }
   }
  },
  {
   "cell_type": "code",
   "source": [
    "e.pinball_score.mean(axis=0).plot(legend=False)"
   ],
   "metadata": {
    "collapsed": false,
    "pycharm": {
     "name": "#%%\n"
    }
   },
   "outputs": [],
   "execution_count": null
  },
  {
   "cell_type": "markdown",
   "source": [
    "### Winkler score"
   ],
   "metadata": {
    "collapsed": false,
    "pycharm": {
     "name": "#%% md\n"
    }
   }
  },
  {
   "cell_type": "code",
   "source": [
    "e.winkler_score.mean(axis=0).plot(legend=False)"
   ],
   "metadata": {
    "collapsed": false,
    "pycharm": {
     "name": "#%%\n"
    }
   },
   "outputs": [],
   "execution_count": null
  },
  {
   "cell_type": "markdown",
   "source": [
    "### Clustering score"
   ],
   "metadata": {
    "collapsed": false,
    "pycharm": {
     "name": "#%% md\n"
    }
   }
  },
  {
   "cell_type": "code",
   "source": [
    "px.bar(e.clustering_score.reset_index(), x='k', y='score', color='selected')"
   ],
   "metadata": {
    "collapsed": false,
    "pycharm": {
     "name": "#%%\n",
     "is_executing": true
    }
   },
   "outputs": [],
   "execution_count": null
  },
  {
   "cell_type": "markdown",
   "source": [
    "### Feature extraction score"
   ],
   "metadata": {
    "collapsed": false,
    "pycharm": {
     "name": "#%% md\n"
    }
   }
  },
  {
   "cell_type": "code",
   "source": [
    "px.bar(e.extractor_score.reset_index(), x='feature', y='score', color='selected')"
   ],
   "metadata": {
    "collapsed": false,
    "pycharm": {
     "name": "#%%\n"
    }
   },
   "outputs": [],
   "execution_count": null
  },
  {
   "cell_type": "markdown",
   "source": [
    "### Feature selection score"
   ],
   "metadata": {
    "collapsed": false,
    "pycharm": {
     "name": "#%% md\n"
    }
   }
  },
  {
   "cell_type": "code",
   "source": [
    "px.scatter_3d(e.x_selector_score.reset_index(), x='x', y='cluster', z='score', color='selected')"
   ],
   "metadata": {
    "collapsed": false,
    "pycharm": {
     "name": "#%%\n",
     "is_executing": true
    }
   },
   "outputs": [],
   "execution_count": null
  },
  {
   "cell_type": "markdown",
   "source": [
    "### Lag selection score"
   ],
   "metadata": {
    "collapsed": false,
    "pycharm": {
     "name": "#%% md\n"
    }
   }
  },
  {
   "cell_type": "code",
   "source": [
    "px.scatter_3d(e.y_selector_score.reset_index(), x='lag', y='cluster', z='score', color='selected')"
   ],
   "metadata": {
    "collapsed": false,
    "pycharm": {
     "name": "#%%\n",
     "is_executing": true
    }
   },
   "outputs": [],
   "execution_count": null
  },
  {
   "cell_type": "markdown",
   "source": [
    "### Regressor scores"
   ],
   "metadata": {
    "collapsed": false,
    "pycharm": {
     "name": "#%% md\n"
    }
   }
  },
  {
   "cell_type": "code",
   "source": [
    "# Show the regressor scores obtained for each cluster during initial training and incremental updates:\n",
    "\n",
    "rs = e.regressor_score.reset_index()\n",
    "ax_cols = list(sorted(set(rs.iloc[:, 0])))\n",
    "ax_rows = list(sorted(set(rs.iloc[:, 1])))\n",
    "ax_value = 3\n",
    "\n",
    "rs_fig = make_subplots(rows=len(ax_rows), cols=len(ax_cols))\n",
    "\n",
    "for i_col in range(len(ax_cols)):\n",
    "    for i_row in range(len(ax_rows)):\n",
    "        rs_values = rs[(rs.iloc[:, 0] == ax_cols[i_col]) & (rs.iloc[:, 1] == ax_rows[i_row])].iloc[:, ax_value]\n",
    "        rs_fig.add_scatter(y=rs_values, row=i_row + 1, col=i_col + 1,\n",
    "                           name=f'{rs.columns[0]}={i_col}, {rs.columns[1]}={i_row}')\n",
    "\n",
    "rs_fig.update_layout(height=800)\n",
    "rs_fig.show()"
   ],
   "metadata": {
    "collapsed": false,
    "pycharm": {
     "name": "#%%\n"
    }
   },
   "outputs": [],
   "execution_count": null
  },
  {
   "cell_type": "markdown",
   "source": "## Plotting the results",
   "metadata": {
    "collapsed": false,
    "pycharm": {
     "name": "#%% md\n"
    }
   }
  },
  {
   "cell_type": "code",
   "source": [
    "# Plot the normalized cluster-level prediction intervals for the last day:\n",
    "fig = learner.figure(source.interval.end - timedelta(1), p=[0.5, 0.75, 0.99])\n",
    "# You can add show_actual=True if you also want to show load measurements.\n",
    "# However, note that this might consume a lot of memory for large clusters.\n",
    "fig.show()"
   ],
   "metadata": {
    "collapsed": false,
    "pycharm": {
     "name": "#%%\n"
    }
   },
   "outputs": [],
   "execution_count": null
  }
 ],
 "metadata": {
  "kernelspec": {
   "display_name": "Python 3",
   "language": "python",
   "name": "python3"
  },
  "language_info": {
   "codemirror_mode": {
    "name": "ipython",
    "version": 2
   },
   "file_extension": ".py",
   "mimetype": "text/x-python",
   "name": "python",
   "nbconvert_exporter": "python",
   "pygments_lexer": "ipython2",
   "version": "2.7.6"
  }
 },
 "nbformat": 4,
 "nbformat_minor": 0
}
