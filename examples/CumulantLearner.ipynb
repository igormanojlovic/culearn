{
 "cells": [
  {
   "cell_type": "markdown",
   "source": [
    "# CumulantLearner: Evaluation"
   ],
   "metadata": {
    "collapsed": false,
    "pycharm": {
     "name": "#%% md\n"
    }
   }
  },
  {
   "cell_type": "markdown",
   "source": [
    "## Setup"
   ],
   "metadata": {
    "collapsed": false,
    "pycharm": {
     "name": "#%% md\n"
    }
   }
  },
  {
   "cell_type": "code",
   "execution_count": null,
   "outputs": [],
   "source": [
    "import plotly.express as px\n",
    "from culearn.data import *\n",
    "from culearn.learn import *\n",
    "\n",
    "# This is a trial key for using weather data from worldweatheronline.com via WorldWeather class.\n",
    "wwo_key = '436e5017a4b34bc5bbb182353223011'\n",
    "# Alternatively, you can use weather data from meteostat.net via MeteoWeather class (without the key).\n",
    "\n",
    "# Prepare the data source:\n",
    "source = LCL('../data/LCL', WorldWeather, api_key=wwo_key)\n",
    "# You can also try:\n",
    "# source = LCL('../data/LCL')  # Uses MeteoWeather by default.\n",
    "# source = REFIT('../data/REFIT', WorldWeather, api_key=wwo_key)\n",
    "# source = REFIT('../data/REFIT')  # Uses MeteoWeather by default.\n",
    "# source = SGSC('../data/SGSC', WorldWeather, api_key=wwo_key)\n",
    "# source = SGSC('../data/SGSC')  # Uses MeteoWeather by default.\n",
    "# source = UMass('../data/UMass')  # Uses UMass weather data.\n",
    "\n",
    "# Load the dataset from the data source:\n",
    "ds = source.dataset()  # This might take a while the first time.\n",
    "\n",
    "# Prepare time encoders that will be used to aggregate time series values before clustering:\n",
    "transform_encoders = TimeEncoders(MonthOfYear(), DayType(source.calendar), TimeOfDay())\n",
    "\n",
    "# Configure a transformer that will approximate and cluster time series values:\n",
    "transformer = CumulantTransform(encoder=transform_encoders)\n",
    "# Optionally, process the input data as streaming time series by adjusting the 'approx' parameter:\n",
    "# approx=lambda _: StreamApproximator(struct=MultiSeriesCSV(_, f'{source.directory}/approx'))\n",
    "# This is particularly useful for high-resolution time series data such as REFIT data.\n",
    "\n",
    "# Prepare time encoders that will be used to obtain input time features for regression:\n",
    "regressor_encoders = TimeEncoders(MonthOfYear(), DayOfWeek(), TimeOfDay(), Holiday(source.calendar))\n",
    "\n",
    "# Configure regression method to predict time series patterns for 48 time steps ahead:\n",
    "regressor = lambda: TimeSeriesRegressor(48, t_encoder=regressor_encoders)\n",
    "# You can change the underlying regression model by modifying the 'base' parameter.\n",
    "\n",
    "# Configure learner to predict half-hour cluster-level cumulants:\n",
    "learner = CumulantLearner(ds, TimeResolution(minutes=30), transformer, regressor)\n",
    "# With the regressor that predicts 48 time steps ahead, the learner will provide day-ahead forecast."
   ],
   "metadata": {
    "collapsed": false,
    "pycharm": {
     "name": "#%%\n"
    }
   }
  },
  {
   "cell_type": "markdown",
   "source": [
    "## Evaluation"
   ],
   "metadata": {
    "collapsed": false,
    "pycharm": {
     "name": "#%% md\n"
    }
   }
  },
  {
   "cell_type": "code",
   "execution_count": null,
   "outputs": [],
   "source": [
    "# The learner will use 80% of history for initial training and 20% for testing, with incremental updates every 15 days:\n",
    "fit_interval = TimeInterval(source.interval.start,\n",
    "                            source.interval.start + timedelta(int(source.interval.delta.days * 0.8)))\n",
    "pred_interval = TimeInterval(fit_interval.end, source.interval.end)\n",
    "update_interval = 15  # every 15 prediction intervals (every 15 days)\n",
    "\n",
    "# The learner will be evaluated at percentile level:\n",
    "p = [_ / 100 for _ in range(1, 100)]\n",
    "\n",
    "# Evaluation (might take a while):\n",
    "e = learner.evaluate(fit_interval, pred_interval, update_interval, p)\n",
    "\n",
    "# Optionally, save results to CSV:\n",
    "# e.to_csv(source.directory, type(learner).__name__)"
   ],
   "metadata": {
    "collapsed": false,
    "pycharm": {
     "name": "#%%\n"
    }
   }
  },
  {
   "cell_type": "markdown",
   "source": [
    "### Pinball score"
   ],
   "metadata": {
    "collapsed": false,
    "pycharm": {
     "name": "#%% md\n"
    }
   }
  },
  {
   "cell_type": "code",
   "execution_count": null,
   "outputs": [],
   "source": [
    "e.pinball_score.mean(axis=0).plot(legend=False)"
   ],
   "metadata": {
    "collapsed": false,
    "pycharm": {
     "name": "#%%\n"
    }
   }
  },
  {
   "cell_type": "markdown",
   "source": [
    "### Winkler score"
   ],
   "metadata": {
    "collapsed": false,
    "pycharm": {
     "name": "#%% md\n"
    }
   }
  },
  {
   "cell_type": "code",
   "execution_count": null,
   "outputs": [],
   "source": [
    "e.winkler_score.mean(axis=0).plot(legend=False)"
   ],
   "metadata": {
    "collapsed": false,
    "pycharm": {
     "name": "#%%\n"
    }
   }
  },
  {
   "cell_type": "markdown",
   "source": [
    "### Clustering score"
   ],
   "metadata": {
    "collapsed": false,
    "pycharm": {
     "name": "#%% md\n"
    }
   }
  },
  {
   "cell_type": "code",
   "execution_count": null,
   "outputs": [],
   "source": [
    "px.bar(e.clustering_score.reset_index(), x='k', y='score', color='selected')"
   ],
   "metadata": {
    "collapsed": false,
    "pycharm": {
     "name": "#%%\n",
     "is_executing": true
    }
   }
  },
  {
   "cell_type": "markdown",
   "source": [
    "### Feature extraction score"
   ],
   "metadata": {
    "collapsed": false,
    "pycharm": {
     "name": "#%% md\n"
    }
   }
  },
  {
   "cell_type": "code",
   "execution_count": null,
   "outputs": [],
   "source": [
    "px.bar(e.extractor_score.reset_index(), x='feature', y='score', color='selected')"
   ],
   "metadata": {
    "collapsed": false,
    "pycharm": {
     "name": "#%%\n"
    }
   }
  },
  {
   "cell_type": "markdown",
   "source": [
    "### Feature selection score"
   ],
   "metadata": {
    "collapsed": false,
    "pycharm": {
     "name": "#%% md\n"
    }
   }
  },
  {
   "cell_type": "code",
   "execution_count": null,
   "outputs": [],
   "source": [
    "px.scatter_3d(e.x_selector_score.reset_index(), x='x', y='cluster', z='score', color='selected')"
   ],
   "metadata": {
    "collapsed": false,
    "pycharm": {
     "name": "#%%\n",
     "is_executing": true
    }
   }
  },
  {
   "cell_type": "markdown",
   "source": [
    "### Lag selection score"
   ],
   "metadata": {
    "collapsed": false,
    "pycharm": {
     "name": "#%% md\n"
    }
   }
  },
  {
   "cell_type": "code",
   "execution_count": null,
   "outputs": [],
   "source": [
    "px.scatter_3d(e.y_selector_score.reset_index(), x='lag', y='cluster', z='score', color='selected')"
   ],
   "metadata": {
    "collapsed": false,
    "pycharm": {
     "name": "#%%\n",
     "is_executing": true
    }
   }
  },
  {
   "cell_type": "markdown",
   "source": [
    "### Regressor scores"
   ],
   "metadata": {
    "collapsed": false,
    "pycharm": {
     "name": "#%% md\n"
    }
   }
  },
  {
   "cell_type": "code",
   "execution_count": null,
   "outputs": [],
   "source": [
    "# Show the regressor scores obtained for each cluster during initial training and incremental updates:\n",
    "\n",
    "rs = e.regressor_score.reset_index()\n",
    "ax_cols = list(sorted(set(rs.iloc[:, 0])))\n",
    "ax_rows = list(sorted(set(rs.iloc[:, 1])))\n",
    "ax_value = 3\n",
    "\n",
    "rs_fig = make_subplots(rows=len(ax_rows), cols=len(ax_cols))\n",
    "\n",
    "for i_col in range(len(ax_cols)):\n",
    "    for i_row in range(len(ax_rows)):\n",
    "        rs_values = rs[(rs.iloc[:, 0] == ax_cols[i_col]) & (rs.iloc[:, 1] == ax_rows[i_row])].iloc[:, ax_value]\n",
    "        rs_fig.add_scatter(y=rs_values, row=i_row + 1, col=i_col + 1,\n",
    "                           name=f'{rs.columns[0]}={i_col}, {rs.columns[1]}={i_row}')\n",
    "\n",
    "rs_fig.update_layout(height=800)\n",
    "rs_fig.show()"
   ],
   "metadata": {
    "collapsed": false,
    "pycharm": {
     "name": "#%%\n"
    }
   }
  },
  {
   "cell_type": "markdown",
   "source": [
    "## Cluster-level prediction intervals for the last day"
   ],
   "metadata": {
    "collapsed": false,
    "pycharm": {
     "name": "#%% md\n"
    }
   }
  },
  {
   "cell_type": "code",
   "execution_count": null,
   "outputs": [],
   "source": [
    "fig = learner.figure(source.interval.end - timedelta(1), p=[0.5, 0.75, 0.99])\n",
    "# If you also want to show load measurements simply add 'show_actual=True'.\n",
    "# However, note that it might consume a lot of memory for large clusters.\n",
    "fig.show()"
   ],
   "metadata": {
    "collapsed": false,
    "pycharm": {
     "name": "#%%\n"
    }
   }
  }
 ],
 "metadata": {
  "kernelspec": {
   "display_name": "Python 3",
   "language": "python",
   "name": "python3"
  },
  "language_info": {
   "codemirror_mode": {
    "name": "ipython",
    "version": 2
   },
   "file_extension": ".py",
   "mimetype": "text/x-python",
   "name": "python",
   "nbconvert_exporter": "python",
   "pygments_lexer": "ipython2",
   "version": "2.7.6"
  }
 },
 "nbformat": 4,
 "nbformat_minor": 0
}