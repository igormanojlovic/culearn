{
 "cells": [
  {
   "cell_type": "markdown",
   "source": [
    "# Datasets: Exploring load and weather data"
   ],
   "metadata": {
    "collapsed": false,
    "pycharm": {
     "name": "#%% md\n"
    }
   }
  },
  {
   "cell_type": "code",
   "execution_count": 1,
   "outputs": [],
   "source": [
    "from culearn.data import *\n",
    "\n",
    "# This is a trial key for using weather data from worldweatheronline.com via WorldWeather class.\n",
    "# Alternatively, you can use weather data from meteostat.net via MeteoWeather class (without the key).\n",
    "wwo_key = '436e5017a4b34bc5bbb182353223011'"
   ],
   "metadata": {
    "collapsed": false,
    "pycharm": {
     "name": "#%%\n"
    }
   }
  },
  {
   "cell_type": "markdown",
   "source": [
    "## LCL"
   ],
   "metadata": {
    "collapsed": false,
    "pycharm": {
     "name": "#%% md\n"
    }
   }
  },
  {
   "cell_type": "code",
   "execution_count": 2,
   "outputs": [],
   "source": [
    "# Prepare the data source:\n",
    "lcl = LCL('../data/LCL', WorldWeather, api_key=wwo_key)\n",
    "# You can also try MeteoWeather (default weather data provider):\n",
    "# lcl = LCL('../data/LCL')\n",
    "\n",
    "# Load the dataset from the data source:\n",
    "lcl_ds = lcl.dataset() # This might take a while the first time."
   ],
   "metadata": {
    "collapsed": false,
    "pycharm": {
     "name": "#%%\n"
    }
   }
  },
  {
   "cell_type": "markdown",
   "source": [
    "### Preview"
   ],
   "metadata": {
    "collapsed": false,
    "pycharm": {
     "name": "#%% md\n"
    }
   }
  },
  {
   "cell_type": "code",
   "execution_count": 14,
   "outputs": [
    {
     "name": "stdout",
     "output_type": "stream",
     "text": [
      "Weather data frame\n"
     ]
    },
    {
     "data": {
      "text/plain": "                     Temperature [°C]  Feels Like [°C]  Dew Point [°C]  \\\nTimestamp                                                                \n2011-11-01 00:00:00              12.0             10.0            11.0   \n2011-11-01 01:00:00              12.0             10.0            11.0   \n2011-11-01 02:00:00              12.0             10.0            11.0   \n2011-11-01 03:00:00              12.0             10.0            12.0   \n2011-11-01 04:00:00              13.0             11.0            12.0   \n...                               ...              ...             ...   \n2014-02-28 19:00:00               4.0              0.0             4.0   \n2014-02-28 20:00:00               3.0              0.0             3.0   \n2014-02-28 21:00:00               3.0             -1.0             3.0   \n2014-02-28 22:00:00               3.0             -1.0             3.0   \n2014-02-28 23:00:00               2.0             -1.0             2.0   \n\n                     Heat Index [°C]  Cloud Cover [%]  Humidity [%]  \\\nTimestamp                                                             \n2011-11-01 00:00:00             12.0             31.0          95.0   \n2011-11-01 01:00:00             12.0             50.0          95.0   \n2011-11-01 02:00:00             12.0             69.0          95.0   \n2011-11-01 03:00:00             12.0             89.0          95.0   \n2011-11-01 04:00:00             13.0             92.0          95.0   \n...                              ...              ...           ...   \n2014-02-28 19:00:00              4.0            100.0         100.0   \n2014-02-28 20:00:00              3.0            100.0         100.0   \n2014-02-28 21:00:00              3.0            100.0         100.0   \n2014-02-28 22:00:00              3.0            100.0         100.0   \n2014-02-28 23:00:00              2.0            100.0         100.0   \n\n                     Precipitation [mm]  Pressure [mbar]  UV Index  \\\nTimestamp                                                            \n2011-11-01 00:00:00                 0.0           1008.0       1.0   \n2011-11-01 01:00:00                 0.0           1008.0       1.0   \n2011-11-01 02:00:00                 0.0           1007.0       1.0   \n2011-11-01 03:00:00                 0.0           1006.0       1.0   \n2011-11-01 04:00:00                 0.0           1007.0       1.0   \n...                                 ...              ...       ...   \n2014-02-28 19:00:00                 0.0           1002.0       1.0   \n2014-02-28 20:00:00                 0.5           1002.0       1.0   \n2014-02-28 21:00:00                 0.7           1003.0       1.0   \n2014-02-28 22:00:00                 0.4           1003.0       1.0   \n2014-02-28 23:00:00                 0.0           1003.0       1.0   \n\n                     Visibility [km]  Wind Chill [°C]  Wind Direction [°]  \\\nTimestamp                                                                   \n2011-11-01 00:00:00             10.0             10.0               152.0   \n2011-11-01 01:00:00             10.0             10.0               157.0   \n2011-11-01 02:00:00             10.0             10.0               163.0   \n2011-11-01 03:00:00             10.0             10.0               168.0   \n2011-11-01 04:00:00             10.0             11.0               175.0   \n...                              ...              ...                 ...   \n2014-02-28 19:00:00             10.0              0.0               350.0   \n2014-02-28 20:00:00              9.0              0.0               349.0   \n2014-02-28 21:00:00              9.0             -1.0               349.0   \n2014-02-28 22:00:00              9.0             -1.0               341.0   \n2014-02-28 23:00:00             10.0             -1.0               332.0   \n\n                     Wind Gust [km/h]  Wind Speed [km/h]  \nTimestamp                                                 \n2011-11-01 00:00:00              31.0               16.0  \n2011-11-01 01:00:00              33.0               17.0  \n2011-11-01 02:00:00              34.0               19.0  \n2011-11-01 03:00:00              36.0               20.0  \n2011-11-01 04:00:00              25.0               14.0  \n...                               ...                ...  \n2014-02-28 19:00:00              28.0               17.0  \n2014-02-28 20:00:00              29.0               17.0  \n2014-02-28 21:00:00              30.0               17.0  \n2014-02-28 22:00:00              25.0               15.0  \n2014-02-28 23:00:00              20.0               12.0  \n\n[20424 rows x 14 columns]",
      "text/html": "<div>\n<style scoped>\n    .dataframe tbody tr th:only-of-type {\n        vertical-align: middle;\n    }\n\n    .dataframe tbody tr th {\n        vertical-align: top;\n    }\n\n    .dataframe thead th {\n        text-align: right;\n    }\n</style>\n<table border=\"1\" class=\"dataframe\">\n  <thead>\n    <tr style=\"text-align: right;\">\n      <th></th>\n      <th>Temperature [°C]</th>\n      <th>Feels Like [°C]</th>\n      <th>Dew Point [°C]</th>\n      <th>Heat Index [°C]</th>\n      <th>Cloud Cover [%]</th>\n      <th>Humidity [%]</th>\n      <th>Precipitation [mm]</th>\n      <th>Pressure [mbar]</th>\n      <th>UV Index</th>\n      <th>Visibility [km]</th>\n      <th>Wind Chill [°C]</th>\n      <th>Wind Direction [°]</th>\n      <th>Wind Gust [km/h]</th>\n      <th>Wind Speed [km/h]</th>\n    </tr>\n    <tr>\n      <th>Timestamp</th>\n      <th></th>\n      <th></th>\n      <th></th>\n      <th></th>\n      <th></th>\n      <th></th>\n      <th></th>\n      <th></th>\n      <th></th>\n      <th></th>\n      <th></th>\n      <th></th>\n      <th></th>\n      <th></th>\n    </tr>\n  </thead>\n  <tbody>\n    <tr>\n      <th>2011-11-01 00:00:00</th>\n      <td>12.0</td>\n      <td>10.0</td>\n      <td>11.0</td>\n      <td>12.0</td>\n      <td>31.0</td>\n      <td>95.0</td>\n      <td>0.0</td>\n      <td>1008.0</td>\n      <td>1.0</td>\n      <td>10.0</td>\n      <td>10.0</td>\n      <td>152.0</td>\n      <td>31.0</td>\n      <td>16.0</td>\n    </tr>\n    <tr>\n      <th>2011-11-01 01:00:00</th>\n      <td>12.0</td>\n      <td>10.0</td>\n      <td>11.0</td>\n      <td>12.0</td>\n      <td>50.0</td>\n      <td>95.0</td>\n      <td>0.0</td>\n      <td>1008.0</td>\n      <td>1.0</td>\n      <td>10.0</td>\n      <td>10.0</td>\n      <td>157.0</td>\n      <td>33.0</td>\n      <td>17.0</td>\n    </tr>\n    <tr>\n      <th>2011-11-01 02:00:00</th>\n      <td>12.0</td>\n      <td>10.0</td>\n      <td>11.0</td>\n      <td>12.0</td>\n      <td>69.0</td>\n      <td>95.0</td>\n      <td>0.0</td>\n      <td>1007.0</td>\n      <td>1.0</td>\n      <td>10.0</td>\n      <td>10.0</td>\n      <td>163.0</td>\n      <td>34.0</td>\n      <td>19.0</td>\n    </tr>\n    <tr>\n      <th>2011-11-01 03:00:00</th>\n      <td>12.0</td>\n      <td>10.0</td>\n      <td>12.0</td>\n      <td>12.0</td>\n      <td>89.0</td>\n      <td>95.0</td>\n      <td>0.0</td>\n      <td>1006.0</td>\n      <td>1.0</td>\n      <td>10.0</td>\n      <td>10.0</td>\n      <td>168.0</td>\n      <td>36.0</td>\n      <td>20.0</td>\n    </tr>\n    <tr>\n      <th>2011-11-01 04:00:00</th>\n      <td>13.0</td>\n      <td>11.0</td>\n      <td>12.0</td>\n      <td>13.0</td>\n      <td>92.0</td>\n      <td>95.0</td>\n      <td>0.0</td>\n      <td>1007.0</td>\n      <td>1.0</td>\n      <td>10.0</td>\n      <td>11.0</td>\n      <td>175.0</td>\n      <td>25.0</td>\n      <td>14.0</td>\n    </tr>\n    <tr>\n      <th>...</th>\n      <td>...</td>\n      <td>...</td>\n      <td>...</td>\n      <td>...</td>\n      <td>...</td>\n      <td>...</td>\n      <td>...</td>\n      <td>...</td>\n      <td>...</td>\n      <td>...</td>\n      <td>...</td>\n      <td>...</td>\n      <td>...</td>\n      <td>...</td>\n    </tr>\n    <tr>\n      <th>2014-02-28 19:00:00</th>\n      <td>4.0</td>\n      <td>0.0</td>\n      <td>4.0</td>\n      <td>4.0</td>\n      <td>100.0</td>\n      <td>100.0</td>\n      <td>0.0</td>\n      <td>1002.0</td>\n      <td>1.0</td>\n      <td>10.0</td>\n      <td>0.0</td>\n      <td>350.0</td>\n      <td>28.0</td>\n      <td>17.0</td>\n    </tr>\n    <tr>\n      <th>2014-02-28 20:00:00</th>\n      <td>3.0</td>\n      <td>0.0</td>\n      <td>3.0</td>\n      <td>3.0</td>\n      <td>100.0</td>\n      <td>100.0</td>\n      <td>0.5</td>\n      <td>1002.0</td>\n      <td>1.0</td>\n      <td>9.0</td>\n      <td>0.0</td>\n      <td>349.0</td>\n      <td>29.0</td>\n      <td>17.0</td>\n    </tr>\n    <tr>\n      <th>2014-02-28 21:00:00</th>\n      <td>3.0</td>\n      <td>-1.0</td>\n      <td>3.0</td>\n      <td>3.0</td>\n      <td>100.0</td>\n      <td>100.0</td>\n      <td>0.7</td>\n      <td>1003.0</td>\n      <td>1.0</td>\n      <td>9.0</td>\n      <td>-1.0</td>\n      <td>349.0</td>\n      <td>30.0</td>\n      <td>17.0</td>\n    </tr>\n    <tr>\n      <th>2014-02-28 22:00:00</th>\n      <td>3.0</td>\n      <td>-1.0</td>\n      <td>3.0</td>\n      <td>3.0</td>\n      <td>100.0</td>\n      <td>100.0</td>\n      <td>0.4</td>\n      <td>1003.0</td>\n      <td>1.0</td>\n      <td>9.0</td>\n      <td>-1.0</td>\n      <td>341.0</td>\n      <td>25.0</td>\n      <td>15.0</td>\n    </tr>\n    <tr>\n      <th>2014-02-28 23:00:00</th>\n      <td>2.0</td>\n      <td>-1.0</td>\n      <td>2.0</td>\n      <td>2.0</td>\n      <td>100.0</td>\n      <td>100.0</td>\n      <td>0.0</td>\n      <td>1003.0</td>\n      <td>1.0</td>\n      <td>10.0</td>\n      <td>-1.0</td>\n      <td>332.0</td>\n      <td>20.0</td>\n      <td>12.0</td>\n    </tr>\n  </tbody>\n</table>\n<p>20424 rows × 14 columns</p>\n</div>"
     },
     "metadata": {},
     "output_type": "display_data"
    },
    {
     "name": "stdout",
     "output_type": "stream",
     "text": [
      "First load data series\n"
     ]
    },
    {
     "data": {
      "text/plain": "                     value\ntimestamp                 \n2012-10-12 00:30:00  0.000\n2012-10-12 01:00:00  0.000\n2012-10-12 01:30:00  0.000\n2012-10-12 02:00:00  0.000\n2012-10-12 02:30:00  0.000\n...                    ...\n2014-02-27 22:00:00  0.416\n2014-02-27 22:30:00  1.350\n2014-02-27 23:00:00  1.247\n2014-02-27 23:30:00  1.218\n2014-02-28 00:00:00  1.387\n\n[23142 rows x 1 columns]",
      "text/html": "<div>\n<style scoped>\n    .dataframe tbody tr th:only-of-type {\n        vertical-align: middle;\n    }\n\n    .dataframe tbody tr th {\n        vertical-align: top;\n    }\n\n    .dataframe thead th {\n        text-align: right;\n    }\n</style>\n<table border=\"1\" class=\"dataframe\">\n  <thead>\n    <tr style=\"text-align: right;\">\n      <th></th>\n      <th>value</th>\n    </tr>\n    <tr>\n      <th>timestamp</th>\n      <th></th>\n    </tr>\n  </thead>\n  <tbody>\n    <tr>\n      <th>2012-10-12 00:30:00</th>\n      <td>0.000</td>\n    </tr>\n    <tr>\n      <th>2012-10-12 01:00:00</th>\n      <td>0.000</td>\n    </tr>\n    <tr>\n      <th>2012-10-12 01:30:00</th>\n      <td>0.000</td>\n    </tr>\n    <tr>\n      <th>2012-10-12 02:00:00</th>\n      <td>0.000</td>\n    </tr>\n    <tr>\n      <th>2012-10-12 02:30:00</th>\n      <td>0.000</td>\n    </tr>\n    <tr>\n      <th>...</th>\n      <td>...</td>\n    </tr>\n    <tr>\n      <th>2014-02-27 22:00:00</th>\n      <td>0.416</td>\n    </tr>\n    <tr>\n      <th>2014-02-27 22:30:00</th>\n      <td>1.350</td>\n    </tr>\n    <tr>\n      <th>2014-02-27 23:00:00</th>\n      <td>1.247</td>\n    </tr>\n    <tr>\n      <th>2014-02-27 23:30:00</th>\n      <td>1.218</td>\n    </tr>\n    <tr>\n      <th>2014-02-28 00:00:00</th>\n      <td>1.387</td>\n    </tr>\n  </tbody>\n</table>\n<p>23142 rows × 1 columns</p>\n</div>"
     },
     "metadata": {},
     "output_type": "display_data"
    }
   ],
   "source": [
    "print('Weather data frame')\n",
    "display(lcl_ds.x)\n",
    "\n",
    "print('First load data series')\n",
    "display(lcl_ds.y[0].series().to_frame())"
   ],
   "metadata": {
    "collapsed": false,
    "pycharm": {
     "name": "#%%\n"
    }
   }
  },
  {
   "cell_type": "markdown",
   "source": [
    "## REFIT"
   ],
   "metadata": {
    "collapsed": false,
    "pycharm": {
     "name": "#%% md\n"
    }
   }
  },
  {
   "cell_type": "code",
   "execution_count": 15,
   "outputs": [],
   "source": [
    "# Prepare the data source:\n",
    "refit = REFIT('../data/REFIT', WorldWeather, api_key=wwo_key)\n",
    "# You can also try MeteoWeather (default weather data provider):\n",
    "# refit = REFIT('../data/REFIT')\n",
    "\n",
    "# Load the dataset from the data source:\n",
    "refit_ds = refit.dataset() # This might take a while the first time."
   ],
   "metadata": {
    "collapsed": false,
    "pycharm": {
     "name": "#%%\n"
    }
   }
  },
  {
   "cell_type": "markdown",
   "source": [
    "### Preview"
   ],
   "metadata": {
    "collapsed": false,
    "pycharm": {
     "name": "#%% md\n"
    }
   }
  },
  {
   "cell_type": "code",
   "execution_count": 16,
   "outputs": [
    {
     "name": "stdout",
     "output_type": "stream",
     "text": [
      "Weather data frame\n"
     ]
    },
    {
     "data": {
      "text/plain": "                     Temperature [°C]  Feels Like [°C]  Dew Point [°C]  \\\nTimestamp                                                                \n2013-10-01 00:00:00               9.0              7.0             8.0   \n2013-10-01 01:00:00               9.0              7.0             8.0   \n2013-10-01 02:00:00               9.0              7.0             8.0   \n2013-10-01 03:00:00               9.0              7.0             8.0   \n2013-10-01 04:00:00               9.0              7.0             8.0   \n...                               ...              ...             ...   \n2015-06-30 19:00:00              23.0             24.0            16.0   \n2015-06-30 20:00:00              21.0             21.0            15.0   \n2015-06-30 21:00:00              19.0             19.0            14.0   \n2015-06-30 22:00:00              18.0             18.0            13.0   \n2015-06-30 23:00:00              16.0             16.0            12.0   \n\n                     Heat Index [°C]  Cloud Cover [%]  Humidity [%]  \\\nTimestamp                                                             \n2013-10-01 00:00:00              9.0             33.0          96.0   \n2013-10-01 01:00:00              9.0             38.0          97.0   \n2013-10-01 02:00:00              9.0             43.0          97.0   \n2013-10-01 03:00:00              9.0             47.0          98.0   \n2013-10-01 04:00:00              9.0             47.0          97.0   \n...                              ...              ...           ...   \n2015-06-30 19:00:00             24.0              3.0          65.0   \n2015-06-30 20:00:00             21.0              3.0          70.0   \n2015-06-30 21:00:00             19.0              2.0          76.0   \n2015-06-30 22:00:00             18.0              4.0          75.0   \n2015-06-30 23:00:00             16.0              5.0          74.0   \n\n                     Precipitation [mm]  Pressure [mbar]  UV Index  \\\nTimestamp                                                            \n2013-10-01 00:00:00                 0.0           1010.0       1.0   \n2013-10-01 01:00:00                 0.0           1010.0       1.0   \n2013-10-01 02:00:00                 0.0           1009.0       1.0   \n2013-10-01 03:00:00                 0.0           1009.0       1.0   \n2013-10-01 04:00:00                 0.0           1009.0       1.0   \n...                                 ...              ...       ...   \n2015-06-30 19:00:00                 0.0           1016.0       1.0   \n2015-06-30 20:00:00                 0.0           1016.0       1.0   \n2015-06-30 21:00:00                 0.0           1016.0       1.0   \n2015-06-30 22:00:00                 0.0           1016.0       1.0   \n2015-06-30 23:00:00                 0.0           1016.0       1.0   \n\n                     Visibility [km]  Wind Chill [°C]  Wind Direction [°]  \\\nTimestamp                                                                   \n2013-10-01 00:00:00              2.0              7.0                85.0   \n2013-10-01 01:00:00              5.0              7.0                84.0   \n2013-10-01 02:00:00              7.0              7.0                84.0   \n2013-10-01 03:00:00             10.0              7.0                83.0   \n2013-10-01 04:00:00             10.0              7.0                83.0   \n...                              ...              ...                 ...   \n2015-06-30 19:00:00             10.0             23.0               128.0   \n2015-06-30 20:00:00             10.0             21.0               131.0   \n2015-06-30 21:00:00             10.0             19.0               133.0   \n2015-06-30 22:00:00             10.0             18.0               127.0   \n2015-06-30 23:00:00             10.0             16.0               121.0   \n\n                     Wind Gust [km/h]  Wind Speed [km/h]  \nTimestamp                                                 \n2013-10-01 00:00:00              21.0               11.0  \n2013-10-01 01:00:00              22.0               12.0  \n2013-10-01 02:00:00              24.0               13.0  \n2013-10-01 03:00:00              25.0               13.0  \n2013-10-01 04:00:00              24.0               13.0  \n...                               ...                ...  \n2015-06-30 19:00:00              29.0               15.0  \n2015-06-30 20:00:00              34.0               17.0  \n2015-06-30 21:00:00              40.0               19.0  \n2015-06-30 22:00:00              40.0               19.0  \n2015-06-30 23:00:00              40.0               19.0  \n\n[15312 rows x 14 columns]",
      "text/html": "<div>\n<style scoped>\n    .dataframe tbody tr th:only-of-type {\n        vertical-align: middle;\n    }\n\n    .dataframe tbody tr th {\n        vertical-align: top;\n    }\n\n    .dataframe thead th {\n        text-align: right;\n    }\n</style>\n<table border=\"1\" class=\"dataframe\">\n  <thead>\n    <tr style=\"text-align: right;\">\n      <th></th>\n      <th>Temperature [°C]</th>\n      <th>Feels Like [°C]</th>\n      <th>Dew Point [°C]</th>\n      <th>Heat Index [°C]</th>\n      <th>Cloud Cover [%]</th>\n      <th>Humidity [%]</th>\n      <th>Precipitation [mm]</th>\n      <th>Pressure [mbar]</th>\n      <th>UV Index</th>\n      <th>Visibility [km]</th>\n      <th>Wind Chill [°C]</th>\n      <th>Wind Direction [°]</th>\n      <th>Wind Gust [km/h]</th>\n      <th>Wind Speed [km/h]</th>\n    </tr>\n    <tr>\n      <th>Timestamp</th>\n      <th></th>\n      <th></th>\n      <th></th>\n      <th></th>\n      <th></th>\n      <th></th>\n      <th></th>\n      <th></th>\n      <th></th>\n      <th></th>\n      <th></th>\n      <th></th>\n      <th></th>\n      <th></th>\n    </tr>\n  </thead>\n  <tbody>\n    <tr>\n      <th>2013-10-01 00:00:00</th>\n      <td>9.0</td>\n      <td>7.0</td>\n      <td>8.0</td>\n      <td>9.0</td>\n      <td>33.0</td>\n      <td>96.0</td>\n      <td>0.0</td>\n      <td>1010.0</td>\n      <td>1.0</td>\n      <td>2.0</td>\n      <td>7.0</td>\n      <td>85.0</td>\n      <td>21.0</td>\n      <td>11.0</td>\n    </tr>\n    <tr>\n      <th>2013-10-01 01:00:00</th>\n      <td>9.0</td>\n      <td>7.0</td>\n      <td>8.0</td>\n      <td>9.0</td>\n      <td>38.0</td>\n      <td>97.0</td>\n      <td>0.0</td>\n      <td>1010.0</td>\n      <td>1.0</td>\n      <td>5.0</td>\n      <td>7.0</td>\n      <td>84.0</td>\n      <td>22.0</td>\n      <td>12.0</td>\n    </tr>\n    <tr>\n      <th>2013-10-01 02:00:00</th>\n      <td>9.0</td>\n      <td>7.0</td>\n      <td>8.0</td>\n      <td>9.0</td>\n      <td>43.0</td>\n      <td>97.0</td>\n      <td>0.0</td>\n      <td>1009.0</td>\n      <td>1.0</td>\n      <td>7.0</td>\n      <td>7.0</td>\n      <td>84.0</td>\n      <td>24.0</td>\n      <td>13.0</td>\n    </tr>\n    <tr>\n      <th>2013-10-01 03:00:00</th>\n      <td>9.0</td>\n      <td>7.0</td>\n      <td>8.0</td>\n      <td>9.0</td>\n      <td>47.0</td>\n      <td>98.0</td>\n      <td>0.0</td>\n      <td>1009.0</td>\n      <td>1.0</td>\n      <td>10.0</td>\n      <td>7.0</td>\n      <td>83.0</td>\n      <td>25.0</td>\n      <td>13.0</td>\n    </tr>\n    <tr>\n      <th>2013-10-01 04:00:00</th>\n      <td>9.0</td>\n      <td>7.0</td>\n      <td>8.0</td>\n      <td>9.0</td>\n      <td>47.0</td>\n      <td>97.0</td>\n      <td>0.0</td>\n      <td>1009.0</td>\n      <td>1.0</td>\n      <td>10.0</td>\n      <td>7.0</td>\n      <td>83.0</td>\n      <td>24.0</td>\n      <td>13.0</td>\n    </tr>\n    <tr>\n      <th>...</th>\n      <td>...</td>\n      <td>...</td>\n      <td>...</td>\n      <td>...</td>\n      <td>...</td>\n      <td>...</td>\n      <td>...</td>\n      <td>...</td>\n      <td>...</td>\n      <td>...</td>\n      <td>...</td>\n      <td>...</td>\n      <td>...</td>\n      <td>...</td>\n    </tr>\n    <tr>\n      <th>2015-06-30 19:00:00</th>\n      <td>23.0</td>\n      <td>24.0</td>\n      <td>16.0</td>\n      <td>24.0</td>\n      <td>3.0</td>\n      <td>65.0</td>\n      <td>0.0</td>\n      <td>1016.0</td>\n      <td>1.0</td>\n      <td>10.0</td>\n      <td>23.0</td>\n      <td>128.0</td>\n      <td>29.0</td>\n      <td>15.0</td>\n    </tr>\n    <tr>\n      <th>2015-06-30 20:00:00</th>\n      <td>21.0</td>\n      <td>21.0</td>\n      <td>15.0</td>\n      <td>21.0</td>\n      <td>3.0</td>\n      <td>70.0</td>\n      <td>0.0</td>\n      <td>1016.0</td>\n      <td>1.0</td>\n      <td>10.0</td>\n      <td>21.0</td>\n      <td>131.0</td>\n      <td>34.0</td>\n      <td>17.0</td>\n    </tr>\n    <tr>\n      <th>2015-06-30 21:00:00</th>\n      <td>19.0</td>\n      <td>19.0</td>\n      <td>14.0</td>\n      <td>19.0</td>\n      <td>2.0</td>\n      <td>76.0</td>\n      <td>0.0</td>\n      <td>1016.0</td>\n      <td>1.0</td>\n      <td>10.0</td>\n      <td>19.0</td>\n      <td>133.0</td>\n      <td>40.0</td>\n      <td>19.0</td>\n    </tr>\n    <tr>\n      <th>2015-06-30 22:00:00</th>\n      <td>18.0</td>\n      <td>18.0</td>\n      <td>13.0</td>\n      <td>18.0</td>\n      <td>4.0</td>\n      <td>75.0</td>\n      <td>0.0</td>\n      <td>1016.0</td>\n      <td>1.0</td>\n      <td>10.0</td>\n      <td>18.0</td>\n      <td>127.0</td>\n      <td>40.0</td>\n      <td>19.0</td>\n    </tr>\n    <tr>\n      <th>2015-06-30 23:00:00</th>\n      <td>16.0</td>\n      <td>16.0</td>\n      <td>12.0</td>\n      <td>16.0</td>\n      <td>5.0</td>\n      <td>74.0</td>\n      <td>0.0</td>\n      <td>1016.0</td>\n      <td>1.0</td>\n      <td>10.0</td>\n      <td>16.0</td>\n      <td>121.0</td>\n      <td>40.0</td>\n      <td>19.0</td>\n    </tr>\n  </tbody>\n</table>\n<p>15312 rows × 14 columns</p>\n</div>"
     },
     "metadata": {},
     "output_type": "display_data"
    },
    {
     "name": "stdout",
     "output_type": "stream",
     "text": [
      "First load data series\n"
     ]
    },
    {
     "data": {
      "text/plain": "                     value\ntimestamp                 \n2013-10-09 13:06:17    523\n2013-10-09 13:06:31    526\n2013-10-09 13:06:46    540\n2013-10-09 13:07:01    532\n2013-10-09 13:07:15    540\n...                    ...\n2015-07-10 11:56:05    187\n2015-07-10 11:56:12    185\n2015-07-10 11:56:18    181\n2015-07-10 11:56:25    186\n2015-07-10 11:56:32    182\n\n[6960008 rows x 1 columns]",
      "text/html": "<div>\n<style scoped>\n    .dataframe tbody tr th:only-of-type {\n        vertical-align: middle;\n    }\n\n    .dataframe tbody tr th {\n        vertical-align: top;\n    }\n\n    .dataframe thead th {\n        text-align: right;\n    }\n</style>\n<table border=\"1\" class=\"dataframe\">\n  <thead>\n    <tr style=\"text-align: right;\">\n      <th></th>\n      <th>value</th>\n    </tr>\n    <tr>\n      <th>timestamp</th>\n      <th></th>\n    </tr>\n  </thead>\n  <tbody>\n    <tr>\n      <th>2013-10-09 13:06:17</th>\n      <td>523</td>\n    </tr>\n    <tr>\n      <th>2013-10-09 13:06:31</th>\n      <td>526</td>\n    </tr>\n    <tr>\n      <th>2013-10-09 13:06:46</th>\n      <td>540</td>\n    </tr>\n    <tr>\n      <th>2013-10-09 13:07:01</th>\n      <td>532</td>\n    </tr>\n    <tr>\n      <th>2013-10-09 13:07:15</th>\n      <td>540</td>\n    </tr>\n    <tr>\n      <th>...</th>\n      <td>...</td>\n    </tr>\n    <tr>\n      <th>2015-07-10 11:56:05</th>\n      <td>187</td>\n    </tr>\n    <tr>\n      <th>2015-07-10 11:56:12</th>\n      <td>185</td>\n    </tr>\n    <tr>\n      <th>2015-07-10 11:56:18</th>\n      <td>181</td>\n    </tr>\n    <tr>\n      <th>2015-07-10 11:56:25</th>\n      <td>186</td>\n    </tr>\n    <tr>\n      <th>2015-07-10 11:56:32</th>\n      <td>182</td>\n    </tr>\n  </tbody>\n</table>\n<p>6960008 rows × 1 columns</p>\n</div>"
     },
     "metadata": {},
     "output_type": "display_data"
    }
   ],
   "source": [
    "print('Weather data frame')\n",
    "display(refit_ds.x)\n",
    "\n",
    "print('First load data series')\n",
    "display(refit_ds.y[0].series().to_frame())"
   ],
   "metadata": {
    "collapsed": false,
    "pycharm": {
     "name": "#%%\n"
    }
   }
  },
  {
   "cell_type": "markdown",
   "source": [
    "## SGSC"
   ],
   "metadata": {
    "collapsed": false,
    "pycharm": {
     "name": "#%% md\n"
    }
   }
  },
  {
   "cell_type": "code",
   "execution_count": 17,
   "outputs": [],
   "source": [
    "# Prepare the data source:\n",
    "sgsc = SGSC('../data/SGSC', WorldWeather, api_key=wwo_key)\n",
    "# You can also try MeteoWeather (default weather data provider):\n",
    "# sgsc = SGSC('../data/SGSC')\n",
    "\n",
    "# Load the dataset from the data source:\n",
    "sgsc_ds = sgsc.dataset() # This might take a while the first time."
   ],
   "metadata": {
    "collapsed": false,
    "pycharm": {
     "name": "#%%\n"
    }
   }
  },
  {
   "cell_type": "markdown",
   "source": [
    "### Preview"
   ],
   "metadata": {
    "collapsed": false,
    "pycharm": {
     "name": "#%% md\n"
    }
   }
  },
  {
   "cell_type": "code",
   "execution_count": 18,
   "outputs": [
    {
     "name": "stdout",
     "output_type": "stream",
     "text": [
      "Weather data frame\n"
     ]
    },
    {
     "data": {
      "text/plain": "                     Temperature [°C]  Feels Like [°C]  Dew Point [°C]  \\\nTimestamp                                                                \n2011-10-01 00:00:00              12.0             11.0             8.0   \n2011-10-01 01:00:00              12.0             10.0             8.0   \n2011-10-01 02:00:00              11.0             10.0             8.0   \n2011-10-01 03:00:00              11.0             10.0             9.0   \n2011-10-01 04:00:00              11.0             11.0             9.0   \n...                               ...              ...             ...   \n2014-02-28 19:00:00              20.0             20.0            18.0   \n2014-02-28 20:00:00              20.0             20.0            18.0   \n2014-02-28 21:00:00              20.0             20.0            18.0   \n2014-02-28 22:00:00              20.0             20.0            18.0   \n2014-02-28 23:00:00              20.0             20.0            18.0   \n\n                     Heat Index [°C]  Cloud Cover [%]  Humidity [%]  \\\nTimestamp                                                             \n2011-10-01 00:00:00             12.0              5.0          77.0   \n2011-10-01 01:00:00             12.0              5.0          80.0   \n2011-10-01 02:00:00             11.0              6.0          83.0   \n2011-10-01 03:00:00             11.0              6.0          86.0   \n2011-10-01 04:00:00             11.0             18.0          84.0   \n...                              ...              ...           ...   \n2014-02-28 19:00:00             20.0             75.0          86.0   \n2014-02-28 20:00:00             20.0             71.0          86.0   \n2014-02-28 21:00:00             20.0             67.0          85.0   \n2014-02-28 22:00:00             20.0             69.0          86.0   \n2014-02-28 23:00:00             20.0             71.0          86.0   \n\n                     Precipitation [mm]  Pressure [mbar]  UV Index  \\\nTimestamp                                                            \n2011-10-01 00:00:00                 0.0           1007.0       1.0   \n2011-10-01 01:00:00                 0.0           1007.0       1.0   \n2011-10-01 02:00:00                 0.0           1007.0       1.0   \n2011-10-01 03:00:00                 0.0           1006.0       1.0   \n2011-10-01 04:00:00                 0.0           1006.0       1.0   \n...                                 ...              ...       ...   \n2014-02-28 19:00:00                 0.6           1022.0       1.0   \n2014-02-28 20:00:00                 0.9           1022.0       1.0   \n2014-02-28 21:00:00                 1.2           1022.0       1.0   \n2014-02-28 22:00:00                 0.6           1022.0       1.0   \n2014-02-28 23:00:00                 0.2           1022.0       1.0   \n\n                     Visibility [km]  Wind Chill [°C]  Wind Direction [°]  \\\nTimestamp                                                                   \n2011-10-01 00:00:00             10.0             11.0               281.0   \n2011-10-01 01:00:00             10.0             10.0               304.0   \n2011-10-01 02:00:00             10.0             10.0               327.0   \n2011-10-01 03:00:00             10.0             10.0               350.0   \n2011-10-01 04:00:00             10.0             11.0               351.0   \n...                              ...              ...                 ...   \n2014-02-28 19:00:00              7.0             20.0               133.0   \n2014-02-28 20:00:00              7.0             20.0               136.0   \n2014-02-28 21:00:00              7.0             20.0               138.0   \n2014-02-28 22:00:00              8.0             20.0               127.0   \n2014-02-28 23:00:00              9.0             20.0               116.0   \n\n                     Wind Gust [km/h]  Wind Speed [km/h]  \nTimestamp                                                 \n2011-10-01 00:00:00              26.0               14.0  \n2011-10-01 01:00:00              25.0               13.0  \n2011-10-01 02:00:00              23.0               12.0  \n2011-10-01 03:00:00              22.0               12.0  \n2011-10-01 04:00:00              18.0               10.0  \n...                               ...                ...  \n2014-02-28 19:00:00              22.0               13.0  \n2014-02-28 20:00:00              20.0               12.0  \n2014-02-28 21:00:00              18.0               11.0  \n2014-02-28 22:00:00              18.0               11.0  \n2014-02-28 23:00:00              18.0               11.0  \n\n[21168 rows x 14 columns]",
      "text/html": "<div>\n<style scoped>\n    .dataframe tbody tr th:only-of-type {\n        vertical-align: middle;\n    }\n\n    .dataframe tbody tr th {\n        vertical-align: top;\n    }\n\n    .dataframe thead th {\n        text-align: right;\n    }\n</style>\n<table border=\"1\" class=\"dataframe\">\n  <thead>\n    <tr style=\"text-align: right;\">\n      <th></th>\n      <th>Temperature [°C]</th>\n      <th>Feels Like [°C]</th>\n      <th>Dew Point [°C]</th>\n      <th>Heat Index [°C]</th>\n      <th>Cloud Cover [%]</th>\n      <th>Humidity [%]</th>\n      <th>Precipitation [mm]</th>\n      <th>Pressure [mbar]</th>\n      <th>UV Index</th>\n      <th>Visibility [km]</th>\n      <th>Wind Chill [°C]</th>\n      <th>Wind Direction [°]</th>\n      <th>Wind Gust [km/h]</th>\n      <th>Wind Speed [km/h]</th>\n    </tr>\n    <tr>\n      <th>Timestamp</th>\n      <th></th>\n      <th></th>\n      <th></th>\n      <th></th>\n      <th></th>\n      <th></th>\n      <th></th>\n      <th></th>\n      <th></th>\n      <th></th>\n      <th></th>\n      <th></th>\n      <th></th>\n      <th></th>\n    </tr>\n  </thead>\n  <tbody>\n    <tr>\n      <th>2011-10-01 00:00:00</th>\n      <td>12.0</td>\n      <td>11.0</td>\n      <td>8.0</td>\n      <td>12.0</td>\n      <td>5.0</td>\n      <td>77.0</td>\n      <td>0.0</td>\n      <td>1007.0</td>\n      <td>1.0</td>\n      <td>10.0</td>\n      <td>11.0</td>\n      <td>281.0</td>\n      <td>26.0</td>\n      <td>14.0</td>\n    </tr>\n    <tr>\n      <th>2011-10-01 01:00:00</th>\n      <td>12.0</td>\n      <td>10.0</td>\n      <td>8.0</td>\n      <td>12.0</td>\n      <td>5.0</td>\n      <td>80.0</td>\n      <td>0.0</td>\n      <td>1007.0</td>\n      <td>1.0</td>\n      <td>10.0</td>\n      <td>10.0</td>\n      <td>304.0</td>\n      <td>25.0</td>\n      <td>13.0</td>\n    </tr>\n    <tr>\n      <th>2011-10-01 02:00:00</th>\n      <td>11.0</td>\n      <td>10.0</td>\n      <td>8.0</td>\n      <td>11.0</td>\n      <td>6.0</td>\n      <td>83.0</td>\n      <td>0.0</td>\n      <td>1007.0</td>\n      <td>1.0</td>\n      <td>10.0</td>\n      <td>10.0</td>\n      <td>327.0</td>\n      <td>23.0</td>\n      <td>12.0</td>\n    </tr>\n    <tr>\n      <th>2011-10-01 03:00:00</th>\n      <td>11.0</td>\n      <td>10.0</td>\n      <td>9.0</td>\n      <td>11.0</td>\n      <td>6.0</td>\n      <td>86.0</td>\n      <td>0.0</td>\n      <td>1006.0</td>\n      <td>1.0</td>\n      <td>10.0</td>\n      <td>10.0</td>\n      <td>350.0</td>\n      <td>22.0</td>\n      <td>12.0</td>\n    </tr>\n    <tr>\n      <th>2011-10-01 04:00:00</th>\n      <td>11.0</td>\n      <td>11.0</td>\n      <td>9.0</td>\n      <td>11.0</td>\n      <td>18.0</td>\n      <td>84.0</td>\n      <td>0.0</td>\n      <td>1006.0</td>\n      <td>1.0</td>\n      <td>10.0</td>\n      <td>11.0</td>\n      <td>351.0</td>\n      <td>18.0</td>\n      <td>10.0</td>\n    </tr>\n    <tr>\n      <th>...</th>\n      <td>...</td>\n      <td>...</td>\n      <td>...</td>\n      <td>...</td>\n      <td>...</td>\n      <td>...</td>\n      <td>...</td>\n      <td>...</td>\n      <td>...</td>\n      <td>...</td>\n      <td>...</td>\n      <td>...</td>\n      <td>...</td>\n      <td>...</td>\n    </tr>\n    <tr>\n      <th>2014-02-28 19:00:00</th>\n      <td>20.0</td>\n      <td>20.0</td>\n      <td>18.0</td>\n      <td>20.0</td>\n      <td>75.0</td>\n      <td>86.0</td>\n      <td>0.6</td>\n      <td>1022.0</td>\n      <td>1.0</td>\n      <td>7.0</td>\n      <td>20.0</td>\n      <td>133.0</td>\n      <td>22.0</td>\n      <td>13.0</td>\n    </tr>\n    <tr>\n      <th>2014-02-28 20:00:00</th>\n      <td>20.0</td>\n      <td>20.0</td>\n      <td>18.0</td>\n      <td>20.0</td>\n      <td>71.0</td>\n      <td>86.0</td>\n      <td>0.9</td>\n      <td>1022.0</td>\n      <td>1.0</td>\n      <td>7.0</td>\n      <td>20.0</td>\n      <td>136.0</td>\n      <td>20.0</td>\n      <td>12.0</td>\n    </tr>\n    <tr>\n      <th>2014-02-28 21:00:00</th>\n      <td>20.0</td>\n      <td>20.0</td>\n      <td>18.0</td>\n      <td>20.0</td>\n      <td>67.0</td>\n      <td>85.0</td>\n      <td>1.2</td>\n      <td>1022.0</td>\n      <td>1.0</td>\n      <td>7.0</td>\n      <td>20.0</td>\n      <td>138.0</td>\n      <td>18.0</td>\n      <td>11.0</td>\n    </tr>\n    <tr>\n      <th>2014-02-28 22:00:00</th>\n      <td>20.0</td>\n      <td>20.0</td>\n      <td>18.0</td>\n      <td>20.0</td>\n      <td>69.0</td>\n      <td>86.0</td>\n      <td>0.6</td>\n      <td>1022.0</td>\n      <td>1.0</td>\n      <td>8.0</td>\n      <td>20.0</td>\n      <td>127.0</td>\n      <td>18.0</td>\n      <td>11.0</td>\n    </tr>\n    <tr>\n      <th>2014-02-28 23:00:00</th>\n      <td>20.0</td>\n      <td>20.0</td>\n      <td>18.0</td>\n      <td>20.0</td>\n      <td>71.0</td>\n      <td>86.0</td>\n      <td>0.2</td>\n      <td>1022.0</td>\n      <td>1.0</td>\n      <td>9.0</td>\n      <td>20.0</td>\n      <td>116.0</td>\n      <td>18.0</td>\n      <td>11.0</td>\n    </tr>\n  </tbody>\n</table>\n<p>21168 rows × 14 columns</p>\n</div>"
     },
     "metadata": {},
     "output_type": "display_data"
    },
    {
     "name": "stdout",
     "output_type": "stream",
     "text": [
      "First load data series\n"
     ]
    },
    {
     "data": {
      "text/plain": "                     value\ntimestamp                 \n2012-02-10 08:00:00  0.141\n2012-02-10 08:30:00  0.088\n2012-02-10 09:00:00  0.078\n2012-02-10 09:30:00  0.151\n2012-02-10 10:00:00  0.146\n...                    ...\n2014-03-03 08:00:00  0.299\n2014-03-03 08:30:00  0.200\n2014-03-03 09:00:00  0.088\n2014-03-03 09:30:00  0.128\n2014-03-03 10:00:00  0.177\n\n[36057 rows x 1 columns]",
      "text/html": "<div>\n<style scoped>\n    .dataframe tbody tr th:only-of-type {\n        vertical-align: middle;\n    }\n\n    .dataframe tbody tr th {\n        vertical-align: top;\n    }\n\n    .dataframe thead th {\n        text-align: right;\n    }\n</style>\n<table border=\"1\" class=\"dataframe\">\n  <thead>\n    <tr style=\"text-align: right;\">\n      <th></th>\n      <th>value</th>\n    </tr>\n    <tr>\n      <th>timestamp</th>\n      <th></th>\n    </tr>\n  </thead>\n  <tbody>\n    <tr>\n      <th>2012-02-10 08:00:00</th>\n      <td>0.141</td>\n    </tr>\n    <tr>\n      <th>2012-02-10 08:30:00</th>\n      <td>0.088</td>\n    </tr>\n    <tr>\n      <th>2012-02-10 09:00:00</th>\n      <td>0.078</td>\n    </tr>\n    <tr>\n      <th>2012-02-10 09:30:00</th>\n      <td>0.151</td>\n    </tr>\n    <tr>\n      <th>2012-02-10 10:00:00</th>\n      <td>0.146</td>\n    </tr>\n    <tr>\n      <th>...</th>\n      <td>...</td>\n    </tr>\n    <tr>\n      <th>2014-03-03 08:00:00</th>\n      <td>0.299</td>\n    </tr>\n    <tr>\n      <th>2014-03-03 08:30:00</th>\n      <td>0.200</td>\n    </tr>\n    <tr>\n      <th>2014-03-03 09:00:00</th>\n      <td>0.088</td>\n    </tr>\n    <tr>\n      <th>2014-03-03 09:30:00</th>\n      <td>0.128</td>\n    </tr>\n    <tr>\n      <th>2014-03-03 10:00:00</th>\n      <td>0.177</td>\n    </tr>\n  </tbody>\n</table>\n<p>36057 rows × 1 columns</p>\n</div>"
     },
     "metadata": {},
     "output_type": "display_data"
    }
   ],
   "source": [
    "print('Weather data frame')\n",
    "display(sgsc_ds.x)\n",
    "\n",
    "print('First load data series')\n",
    "display(sgsc_ds.y[0].series().to_frame())"
   ],
   "metadata": {
    "collapsed": false,
    "pycharm": {
     "name": "#%%\n"
    }
   }
  },
  {
   "cell_type": "markdown",
   "source": [
    "## UMass"
   ],
   "metadata": {
    "collapsed": false,
    "pycharm": {
     "name": "#%% md\n"
    }
   }
  },
  {
   "cell_type": "code",
   "execution_count": 19,
   "outputs": [],
   "source": [
    "umass = UMass('../data/UMass')  # Uses weather data from the UMass repository.\n",
    "\n",
    "# Load the dataset from the data source:\n",
    "umass_ds = umass.dataset() # This might take a while the first time."
   ],
   "metadata": {
    "collapsed": false,
    "pycharm": {
     "name": "#%%\n"
    }
   }
  },
  {
   "cell_type": "markdown",
   "source": [
    "### Preview"
   ],
   "metadata": {
    "collapsed": false,
    "pycharm": {
     "name": "#%% md\n"
    }
   }
  },
  {
   "cell_type": "code",
   "execution_count": 20,
   "outputs": [
    {
     "name": "stdout",
     "output_type": "stream",
     "text": [
      "Weather data frame\n"
     ]
    },
    {
     "data": {
      "text/plain": "                     Temperature [°C]  Feels Like [°C]  Dew Point [°C]  \\\nTimestamp                                                                \n2014-01-01 05:00:00         -6.800000       -13.655556      -15.877778   \n2014-01-01 06:00:00         -7.366667       -13.644444      -16.344444   \n2014-01-01 07:00:00         -8.111111       -13.477778      -16.027778   \n2014-01-01 08:00:00         -8.366667       -13.888889      -15.905556   \n2014-01-01 09:00:00         -9.161111       -13.800000      -15.494444   \n...                               ...              ...             ...   \n2017-01-01 00:00:00         -1.322222        -4.344444       -5.855556   \n2017-01-01 01:00:00         -2.994444        -2.994444       -6.216667   \n2017-01-01 02:00:00         -4.211111        -7.466667       -6.777778   \n2017-01-01 03:00:00         -4.888889        -4.888889       -7.033333   \n2017-01-01 04:00:00         -5.277778        -5.277778       -7.150000   \n\n                     Cloud Cover [%]  Humidity [%]  Precipitation [mm]  \\\nTimestamp                                                                \n2014-01-01 05:00:00              0.0          48.0                 0.0   \n2014-01-01 06:00:00              0.0          49.0                 0.0   \n2014-01-01 07:00:00              0.0          53.0                 0.0   \n2014-01-01 08:00:00              0.0          54.0                 0.0   \n2014-01-01 09:00:00              0.0          60.0                 0.0   \n...                              ...           ...                 ...   \n2017-01-01 00:00:00              0.0          71.0                 0.0   \n2017-01-01 01:00:00              0.0          78.0                 0.0   \n2017-01-01 02:00:00              0.0          82.0                 0.0   \n2017-01-01 03:00:00              0.0          85.0                 0.0   \n2017-01-01 04:00:00              0.0          87.0                 0.0   \n\n                     Pressure [mbar]  Visibility Index  Wind Direction [°]  \\\nTimestamp                                                                    \n2014-01-01 05:00:00          1020.07             10.00               280.0   \n2014-01-01 06:00:00          1024.01             10.00               280.0   \n2014-01-01 07:00:00          1024.97             10.00               252.0   \n2014-01-01 08:00:00          1025.83             10.00               244.0   \n2014-01-01 09:00:00          1026.00             10.00               225.0   \n...                              ...               ...                 ...   \n2017-01-01 00:00:00          1028.14             10.00               292.0   \n2017-01-01 01:00:00          1029.15             10.00               306.0   \n2017-01-01 02:00:00          1030.22             10.00               299.0   \n2017-01-01 03:00:00          1031.12              9.89               221.0   \n2017-01-01 04:00:00          1031.59              9.23                16.0   \n\n                     Wind Speed [km/h]  \nTimestamp                               \n2014-01-01 05:00:00          19.247754  \n2014-01-01 06:00:00          15.739384  \n2014-01-01 07:00:00          11.571183  \n2014-01-01 08:00:00          11.909146  \n2014-01-01 09:00:00           8.803112  \n...                                ...  \n2017-01-01 00:00:00           8.223748  \n2017-01-01 01:00:00           2.574950  \n2017-01-01 02:00:00           7.467356  \n2017-01-01 03:00:00           3.878519  \n2017-01-01 04:00:00           0.225308  \n\n[26304 rows x 10 columns]",
      "text/html": "<div>\n<style scoped>\n    .dataframe tbody tr th:only-of-type {\n        vertical-align: middle;\n    }\n\n    .dataframe tbody tr th {\n        vertical-align: top;\n    }\n\n    .dataframe thead th {\n        text-align: right;\n    }\n</style>\n<table border=\"1\" class=\"dataframe\">\n  <thead>\n    <tr style=\"text-align: right;\">\n      <th></th>\n      <th>Temperature [°C]</th>\n      <th>Feels Like [°C]</th>\n      <th>Dew Point [°C]</th>\n      <th>Cloud Cover [%]</th>\n      <th>Humidity [%]</th>\n      <th>Precipitation [mm]</th>\n      <th>Pressure [mbar]</th>\n      <th>Visibility Index</th>\n      <th>Wind Direction [°]</th>\n      <th>Wind Speed [km/h]</th>\n    </tr>\n    <tr>\n      <th>Timestamp</th>\n      <th></th>\n      <th></th>\n      <th></th>\n      <th></th>\n      <th></th>\n      <th></th>\n      <th></th>\n      <th></th>\n      <th></th>\n      <th></th>\n    </tr>\n  </thead>\n  <tbody>\n    <tr>\n      <th>2014-01-01 05:00:00</th>\n      <td>-6.800000</td>\n      <td>-13.655556</td>\n      <td>-15.877778</td>\n      <td>0.0</td>\n      <td>48.0</td>\n      <td>0.0</td>\n      <td>1020.07</td>\n      <td>10.00</td>\n      <td>280.0</td>\n      <td>19.247754</td>\n    </tr>\n    <tr>\n      <th>2014-01-01 06:00:00</th>\n      <td>-7.366667</td>\n      <td>-13.644444</td>\n      <td>-16.344444</td>\n      <td>0.0</td>\n      <td>49.0</td>\n      <td>0.0</td>\n      <td>1024.01</td>\n      <td>10.00</td>\n      <td>280.0</td>\n      <td>15.739384</td>\n    </tr>\n    <tr>\n      <th>2014-01-01 07:00:00</th>\n      <td>-8.111111</td>\n      <td>-13.477778</td>\n      <td>-16.027778</td>\n      <td>0.0</td>\n      <td>53.0</td>\n      <td>0.0</td>\n      <td>1024.97</td>\n      <td>10.00</td>\n      <td>252.0</td>\n      <td>11.571183</td>\n    </tr>\n    <tr>\n      <th>2014-01-01 08:00:00</th>\n      <td>-8.366667</td>\n      <td>-13.888889</td>\n      <td>-15.905556</td>\n      <td>0.0</td>\n      <td>54.0</td>\n      <td>0.0</td>\n      <td>1025.83</td>\n      <td>10.00</td>\n      <td>244.0</td>\n      <td>11.909146</td>\n    </tr>\n    <tr>\n      <th>2014-01-01 09:00:00</th>\n      <td>-9.161111</td>\n      <td>-13.800000</td>\n      <td>-15.494444</td>\n      <td>0.0</td>\n      <td>60.0</td>\n      <td>0.0</td>\n      <td>1026.00</td>\n      <td>10.00</td>\n      <td>225.0</td>\n      <td>8.803112</td>\n    </tr>\n    <tr>\n      <th>...</th>\n      <td>...</td>\n      <td>...</td>\n      <td>...</td>\n      <td>...</td>\n      <td>...</td>\n      <td>...</td>\n      <td>...</td>\n      <td>...</td>\n      <td>...</td>\n      <td>...</td>\n    </tr>\n    <tr>\n      <th>2017-01-01 00:00:00</th>\n      <td>-1.322222</td>\n      <td>-4.344444</td>\n      <td>-5.855556</td>\n      <td>0.0</td>\n      <td>71.0</td>\n      <td>0.0</td>\n      <td>1028.14</td>\n      <td>10.00</td>\n      <td>292.0</td>\n      <td>8.223748</td>\n    </tr>\n    <tr>\n      <th>2017-01-01 01:00:00</th>\n      <td>-2.994444</td>\n      <td>-2.994444</td>\n      <td>-6.216667</td>\n      <td>0.0</td>\n      <td>78.0</td>\n      <td>0.0</td>\n      <td>1029.15</td>\n      <td>10.00</td>\n      <td>306.0</td>\n      <td>2.574950</td>\n    </tr>\n    <tr>\n      <th>2017-01-01 02:00:00</th>\n      <td>-4.211111</td>\n      <td>-7.466667</td>\n      <td>-6.777778</td>\n      <td>0.0</td>\n      <td>82.0</td>\n      <td>0.0</td>\n      <td>1030.22</td>\n      <td>10.00</td>\n      <td>299.0</td>\n      <td>7.467356</td>\n    </tr>\n    <tr>\n      <th>2017-01-01 03:00:00</th>\n      <td>-4.888889</td>\n      <td>-4.888889</td>\n      <td>-7.033333</td>\n      <td>0.0</td>\n      <td>85.0</td>\n      <td>0.0</td>\n      <td>1031.12</td>\n      <td>9.89</td>\n      <td>221.0</td>\n      <td>3.878519</td>\n    </tr>\n    <tr>\n      <th>2017-01-01 04:00:00</th>\n      <td>-5.277778</td>\n      <td>-5.277778</td>\n      <td>-7.150000</td>\n      <td>0.0</td>\n      <td>87.0</td>\n      <td>0.0</td>\n      <td>1031.59</td>\n      <td>9.23</td>\n      <td>16.0</td>\n      <td>0.225308</td>\n    </tr>\n  </tbody>\n</table>\n<p>26304 rows × 10 columns</p>\n</div>"
     },
     "metadata": {},
     "output_type": "display_data"
    },
    {
     "name": "stdout",
     "output_type": "stream",
     "text": [
      "First load data series\n"
     ]
    },
    {
     "data": {
      "text/plain": "                        value\ntimestamp                    \n2014-10-15 12:00:00  0.000000\n2014-10-15 12:15:00  0.000000\n2014-10-15 12:30:00  0.000000\n2014-10-15 12:45:00  0.000000\n2014-10-15 13:00:00  0.000000\n...                       ...\n2016-12-15 20:10:00  0.634417\n2016-12-15 20:11:00  1.914167\n2016-12-15 20:12:00  3.837700\n2016-12-15 20:13:00  4.717600\n2016-12-15 20:14:00  4.715683\n\n[567919 rows x 1 columns]",
      "text/html": "<div>\n<style scoped>\n    .dataframe tbody tr th:only-of-type {\n        vertical-align: middle;\n    }\n\n    .dataframe tbody tr th {\n        vertical-align: top;\n    }\n\n    .dataframe thead th {\n        text-align: right;\n    }\n</style>\n<table border=\"1\" class=\"dataframe\">\n  <thead>\n    <tr style=\"text-align: right;\">\n      <th></th>\n      <th>value</th>\n    </tr>\n    <tr>\n      <th>timestamp</th>\n      <th></th>\n    </tr>\n  </thead>\n  <tbody>\n    <tr>\n      <th>2014-10-15 12:00:00</th>\n      <td>0.000000</td>\n    </tr>\n    <tr>\n      <th>2014-10-15 12:15:00</th>\n      <td>0.000000</td>\n    </tr>\n    <tr>\n      <th>2014-10-15 12:30:00</th>\n      <td>0.000000</td>\n    </tr>\n    <tr>\n      <th>2014-10-15 12:45:00</th>\n      <td>0.000000</td>\n    </tr>\n    <tr>\n      <th>2014-10-15 13:00:00</th>\n      <td>0.000000</td>\n    </tr>\n    <tr>\n      <th>...</th>\n      <td>...</td>\n    </tr>\n    <tr>\n      <th>2016-12-15 20:10:00</th>\n      <td>0.634417</td>\n    </tr>\n    <tr>\n      <th>2016-12-15 20:11:00</th>\n      <td>1.914167</td>\n    </tr>\n    <tr>\n      <th>2016-12-15 20:12:00</th>\n      <td>3.837700</td>\n    </tr>\n    <tr>\n      <th>2016-12-15 20:13:00</th>\n      <td>4.717600</td>\n    </tr>\n    <tr>\n      <th>2016-12-15 20:14:00</th>\n      <td>4.715683</td>\n    </tr>\n  </tbody>\n</table>\n<p>567919 rows × 1 columns</p>\n</div>"
     },
     "metadata": {},
     "output_type": "display_data"
    }
   ],
   "source": [
    "print('Weather data frame')\n",
    "display(umass_ds.x)\n",
    "\n",
    "print('First load data series')\n",
    "display(umass_ds.y[0].series().to_frame())"
   ],
   "metadata": {
    "collapsed": false,
    "pycharm": {
     "name": "#%%\n"
    }
   }
  }
 ],
 "metadata": {
  "kernelspec": {
   "display_name": "Python 3",
   "language": "python",
   "name": "python3"
  },
  "language_info": {
   "codemirror_mode": {
    "name": "ipython",
    "version": 2
   },
   "file_extension": ".py",
   "mimetype": "text/x-python",
   "name": "python",
   "nbconvert_exporter": "python",
   "pygments_lexer": "ipython2",
   "version": "2.7.6"
  }
 },
 "nbformat": 4,
 "nbformat_minor": 0
}