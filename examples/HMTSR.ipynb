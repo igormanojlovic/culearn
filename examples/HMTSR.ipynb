{
 "cells": [
  {
   "metadata": {},
   "cell_type": "markdown",
   "source": [
    "# HMTSR: Hierarchical Multiresolution Time Series Representation\n",
    "\n",
    "This notebook shows how to apply the representation method proposed in:\n",
    "\n",
    "Igor Manojlović, Goran Švenda, Aleksandar Erdeljan, Milan Gavrić, Darko Čapko, *Hierarchical Multiresolution Representation of Streaming Time Series*, Big Data Research 26: 100256, 2021, DOI: [10.1016/j.bdr.2021.100256](https://doi.org/10.1016/j.bdr.2021.100256)\n"
   ],
   "id": "7aa8a1f954ea7e13"
  },
  {
   "metadata": {},
   "cell_type": "code",
   "source": [
    "from culearn.features import *\n",
    "from random import random\n",
    "\n",
    "# First, we need to prepare the time resolutions.\n",
    "resolutions = TimeTree(\n",
    "    TimeResolution(minutes=5),\n",
    "    TimeResolution(minutes=10),\n",
    "    TimeResolution(minutes=15),\n",
    "    TimeResolution(minutes=30),\n",
    ")\n",
    "\n",
    "# Then, we can create the representation model.\n",
    "model = HMTSR(resolutions, MultiSeriesDictionary())\n",
    "# By default, this model will store buffer and disc in a dictionary,\n",
    "# while applying Piecewise Statistical Approximation to time series values.\n",
    "# However, this can be changed via multiseries and approximation parameters, respectively.\n",
    "\n",
    "# The model is updated by processing time series tuples as a stream.\n",
    "for i in range(1000):\n",
    "    # We can just generate some random time series value.\n",
    "    x = TimeSeriesTuple(Time.unix(i), random())\n",
    "\n",
    "    # The process function will update the model.\n",
    "    model.process(x)\n",
    "\n",
    "# Finally, we can explore the results:\n",
    "for resolution in resolutions:\n",
    "    print(\"Time resolution:\", resolution)\n",
    "    print(\"\\tTuple in buffer:\\n\\t\", model.multiseries.buffer(resolution))\n",
    "    print(\"\\tLast tuple on disk:\\n\\t\", model.multiseries.disc(resolution)[-1])"
   ],
   "id": "706cb26dc85d526c",
   "outputs": [],
   "execution_count": null
  },
  {
   "metadata": {
    "jupyter": {
     "is_executing": true
    }
   },
   "cell_type": "code",
   "source": [
    "from culearn.data import REFIT\n",
    "from culearn.util import parallel\n",
    "\n",
    "# We can also use predefined data sources.\n",
    "source = REFIT('../data/REFIT')\n",
    "# Checkout other data sources in the Datasets notebook.\n",
    "\n",
    "# We just need to prepare the dataset first.\n",
    "dataset = source.dataset()\n",
    "# Please note that REFIT currently does not support automatic download,\n",
    "# so it will raise an exception instructing you to download the data manually.\n",
    "# You will be able to create the dataset after that by re-executing the code.\n",
    "\n",
    "# We can process the time series in parallel, but we need new process function.\n",
    "def process(ts):\n",
    "    m = HMTSR(resolutions, MultiSeriesDictionary())\n",
    "    for x in ts.stream():\n",
    "        m.process(x)\n",
    "    return ts.ts_id, m\n",
    "\n",
    "# Finally, we can call the new process function from multiple threads.\n",
    "models = parallel(process, dataset.y)"
   ],
   "id": "236d752179a18554",
   "outputs": [],
   "execution_count": null
  }
 ],
 "metadata": {
  "kernelspec": {
   "display_name": "Python 3",
   "language": "python",
   "name": "python3"
  },
  "language_info": {
   "codemirror_mode": {
    "name": "ipython",
    "version": 2
   },
   "file_extension": ".py",
   "mimetype": "text/x-python",
   "name": "python",
   "nbconvert_exporter": "python",
   "pygments_lexer": "ipython2",
   "version": "2.7.6"
  }
 },
 "nbformat": 4,
 "nbformat_minor": 5
}
